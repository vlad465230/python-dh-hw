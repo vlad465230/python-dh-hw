{
 "cells": [
  {
   "cell_type": "code",
   "execution_count": null,
   "metadata": {},
   "outputs": [],
   "source": [
    "a = int(input())\n",
    "b1 = '    _~_    '\n",
    "b2 = '   (o o)   '\n",
    "b3 = '  /  V  \\  '\n",
    "b4 = ' /(  _  )\\ '\n",
    "b5 = '   ^^ ^^   '\n",
    " \n",
    "print(b1*a)\n",
    "print(b2*a)\n",
    "print(b3*a)\n",
    "print(b4*a)\n",
    "print(b5*a)"
   ]
  },
  {
   "cell_type": "code",
   "execution_count": null,
   "metadata": {},
   "outputs": [],
   "source": [
    "a = input()\n",
    "words = a.split()\n",
    "words = len(words)\n",
    "letters = tuple(a)\n",
    "letters = len (letters)\n",
    "\n",
    "print(words)\n",
    "print(letters)\n"
   ]
  },
  {
   "cell_type": "code",
   "execution_count": 14,
   "metadata": {},
   "outputs": [
    {
     "name": "stdout",
     "output_type": "stream",
     "text": [
      "l\n",
      "a\n",
      "Hello\n",
      "Hello my name is Vl\n",
      "Hlom aei ld\n",
      "el ynm sVa\n",
      "dalV si eman ym olleH\n",
      "dl iea molH\n",
      "21\n"
     ]
    }
   ],
   "source": [
    "a = 'Hello my name is Vlad'\n",
    "\n",
    "print(a[3])\n",
    "print(a[-2])\n",
    "print(a[:5])\n",
    "print(a[:-2])\n",
    "print(a[::2])  \n",
    "print(a[1::2])  \n",
    "print(a[::-1]) \n",
    "print(a[::-2])\n",
    "print(len(a))"
   ]
  },
  {
   "cell_type": "code",
   "execution_count": null,
   "metadata": {},
   "outputs": [],
   "source": []
  }
 ],
 "metadata": {
  "kernelspec": {
   "display_name": "Python 3",
   "language": "python",
   "name": "python3"
  },
  "language_info": {
   "codemirror_mode": {
    "name": "ipython",
    "version": 3
   },
   "file_extension": ".py",
   "mimetype": "text/x-python",
   "name": "python",
   "nbconvert_exporter": "python",
   "pygments_lexer": "ipython3",
   "version": "3.7.0"
  }
 },
 "nbformat": 4,
 "nbformat_minor": 2
}
