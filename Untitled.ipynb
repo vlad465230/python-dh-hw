{
 "cells": [
  {
   "cell_type": "code",
   "execution_count": null,
   "metadata": {},
   "outputs": [],
   "source": [
    "a = int(input())\n",
    "b1 = '    _~_    '\n",
    "b2 = '   (o o)   '\n",
    "b3 = '  /  V  \\  '\n",
    "b4 = ' /(  _  )\\ '\n",
    "b5 = '   ^^ ^^   '\n",
    " \n",
    "print(b1*a)\n",
    "print(b2*a)\n",
    "print(b3*a)\n",
    "print(b4*a)\n",
    "print(b5*a)"
   ]
  },
  {
   "cell_type": "code",
   "execution_count": null,
   "metadata": {},
   "outputs": [],
   "source": []
  },
  {
   "cell_type": "code",
   "execution_count": null,
   "metadata": {},
   "outputs": [],
   "source": []
  }
 ],
 "metadata": {
  "kernelspec": {
   "display_name": "Python 3",
   "language": "python",
   "name": "python3"
  },
  "language_info": {
   "codemirror_mode": {
    "name": "ipython",
    "version": 3
   },
   "file_extension": ".py",
   "mimetype": "text/x-python",
   "name": "python",
   "nbconvert_exporter": "python",
   "pygments_lexer": "ipython3",
   "version": "3.7.0"
  }
 },
 "nbformat": 4,
 "nbformat_minor": 2
}
