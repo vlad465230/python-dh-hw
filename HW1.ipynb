{
 "cells": [
  {
   "cell_type": "code",
   "execution_count": 1,
   "metadata": {},
   "outputs": [
    {
     "name": "stdout",
     "output_type": "stream",
     "text": [
      "4\n",
      "    _~_        _~_        _~_        _~_    \n",
      "   (o o)      (o o)      (o o)      (o o)   \n",
      "  /  V  \\    /  V  \\    /  V  \\    /  V  \\  \n",
      " /(  _  )\\  /(  _  )\\  /(  _  )\\  /(  _  )\\ \n",
      "   ^^ ^^      ^^ ^^      ^^ ^^      ^^ ^^   \n"
     ]
    }
   ],
   "source": [
    "#Первая задача\n",
    "a = int(input())\n",
    "b1 = '    _~_    '\n",
    "b2 = '   (o o)   '\n",
    "b3 = '  /  V  \\  '\n",
    "b4 = ' /(  _  )\\ '\n",
    "b5 = '   ^^ ^^   '\n",
    " \n",
    "print(b1*a)\n",
    "print(b2*a)\n",
    "print(b3*a)\n",
    "print(b4*a)\n",
    "print(b5*a)"
   ]
  },
  {
   "cell_type": "code",
   "execution_count": 2,
   "metadata": {},
   "outputs": [
    {
     "name": "stdout",
     "output_type": "stream",
     "text": [
      "Penguins are lovely\n",
      "3\n",
      "19\n"
     ]
    }
   ],
   "source": [
    "#Вторая задача\n",
    "a = input()\n",
    "words = a.split()\n",
    "words = len(words)\n",
    "letters = tuple(a)\n",
    "letters = len (letters)\n",
    "\n",
    "print(words)\n",
    "print(letters)\n"
   ]
  },
  {
   "cell_type": "code",
   "execution_count": 14,
   "metadata": {},
   "outputs": [
    {
     "name": "stdout",
     "output_type": "stream",
     "text": [
      "l\n",
      "a\n",
      "Hello\n",
      "Hello my name is Vl\n",
      "Hlom aei ld\n",
      "el ynm sVa\n",
      "dalV si eman ym olleH\n",
      "dl iea molH\n",
      "21\n"
     ]
    }
   ],
   "source": [
    "#Третья задача\n",
    "a = 'Hello my name is Vlad'\n",
    "\n",
    "print(a[3])\n",
    "print(a[-2])\n",
    "print(a[:5])\n",
    "print(a[:-2])\n",
    "print(a[::2])  \n",
    "print(a[1::2])  \n",
    "print(a[::-1]) \n",
    "print(a[::-2])\n",
    "print(len(a))"
   ]
  },
  {
   "cell_type": "code",
   "execution_count": 1,
   "metadata": {},
   "outputs": [
    {
     "name": "stdout",
     "output_type": "stream",
     "text": [
      "арозаупаланалапуазора\n",
      "yes\n"
     ]
    }
   ],
   "source": [
    "#Четвертая задача (А)\n",
    "word = str(input())\n",
    "a = word [::-1]\n",
    "if word == a:\n",
    "  print(\"yes\")\n",
    "else:\n",
    "  print(\"no\")\n",
    "\n",
    "\n"
   ]
  },
  {
   "cell_type": "code",
   "execution_count": 1,
   "metadata": {},
   "outputs": [
    {
     "name": "stdout",
     "output_type": "stream",
     "text": [
      "python\n",
      "no\n"
     ]
    }
   ],
   "source": [
    "#Четвертая задача (B)\n",
    "word1 = str(input())\n",
    "a1 = word1 [::-1]\n",
    "if word1 == a1:\n",
    "  print(\"yes\")\n",
    "else:\n",
    "  print(\"no\")"
   ]
  },
  {
   "cell_type": "code",
   "execution_count": 1,
   "metadata": {},
   "outputs": [
    {
     "ename": "IndentationError",
     "evalue": "unexpected indent (<ipython-input-1-6c0f39419afd>, line 19)",
     "output_type": "error",
     "traceback": [
      "\u001b[0;36m  File \u001b[0;32m\"<ipython-input-1-6c0f39419afd>\"\u001b[0;36m, line \u001b[0;32m19\u001b[0m\n\u001b[0;31m    if slovo not in words:\u001b[0m\n\u001b[0m    ^\u001b[0m\n\u001b[0;31mIndentationError\u001b[0m\u001b[0;31m:\u001b[0m unexpected indent\n"
     ]
    }
   ],
   "source": [
    "#Пятая задача\n",
    "text = \"\"\"законы физики рядом с черной дырой уже не работают в том представлении в котором мы привыкли \n",
    "пространство время искривляется и все события протекают уже совсем по другому \n",
    "словно пылесос черная дыра поглощает все что находится около нее планеты астероиды свет и прочее \n",
    "ранее считалось что черная дыра ничего не излучает но как доказал стивен хокинг черная дыра излучает антивещество \n",
    "то есть поедает вещество и выделяет антивещество \n",
    "ранее думали что если кинуть в черную дыру человека то ему труба порвет на субатомы \n",
    "но как оказалось по некоторым уравнениям есть определенные траектории путешествия сквозь черную дыру чтоб чувствовать себя нормально \n",
    "правда не ясно что будет за ней другой мир или ничего \n",
    "область вокруг черной дыры которая интересна называется горизонтом событий \n",
    "если туда полететь не зная волшебное уравнение то будет конечно не очень \n",
    "наблюдатель будет видеть как космический корабль влетает в горизонт событий и крайне медленно потом отдаляется пока не застынет в центре\n",
    "у самого же космонавта дела будут идти совсем по другому \n",
    "искривленное пространство будет лепить из него как из пластилина различные формы пока наконец не разорвет все на субатомы \n",
    "но для внешнего наблюдателя космонавт навсегда останется улыбающимся и махающим в иллюминатор застывшим изображением\"\"\"\n",
    "\n",
    "words = text.split()\n",
    "slovo = str(input)()\n",
    "    if slovo not in words:\n",
    "        words.append(slovo)\n",
    "        print (\"Слово \"slovo\" добавлено\")\n",
    "    else:\n",
    "        print(words.count(slovo))\n",
    "    \n",
    "    \n"
   ]
  },
  {
   "cell_type": "code",
   "execution_count": null,
   "metadata": {},
   "outputs": [],
   "source": []
  }
 ],
 "metadata": {
  "kernelspec": {
   "display_name": "Python 3",
   "language": "python",
   "name": "python3"
  },
  "language_info": {
   "codemirror_mode": {
    "name": "ipython",
    "version": 3
   },
   "file_extension": ".py",
   "mimetype": "text/x-python",
   "name": "python",
   "nbconvert_exporter": "python",
   "pygments_lexer": "ipython3",
   "version": "3.7.0"
  }
 },
 "nbformat": 4,
 "nbformat_minor": 2
}
