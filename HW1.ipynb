{
 "cells": [
  {
   "cell_type": "code",
   "execution_count": 1,
   "metadata": {},
   "outputs": [
    {
     "name": "stdout",
     "output_type": "stream",
     "text": [
      "4\n",
      "    _~_        _~_        _~_        _~_    \n",
      "   (o o)      (o o)      (o o)      (o o)   \n",
      "  /  V  \\    /  V  \\    /  V  \\    /  V  \\  \n",
      " /(  _  )\\  /(  _  )\\  /(  _  )\\  /(  _  )\\ \n",
      "   ^^ ^^      ^^ ^^      ^^ ^^      ^^ ^^   \n"
     ]
    }
   ],
   "source": [
    "a = int(input())\n",
    "b1 = '    _~_    '\n",
    "b2 = '   (o o)   '\n",
    "b3 = '  /  V  \\  '\n",
    "b4 = ' /(  _  )\\ '\n",
    "b5 = '   ^^ ^^   '\n",
    " \n",
    "print(b1*a)\n",
    "print(b2*a)\n",
    "print(b3*a)\n",
    "print(b4*a)\n",
    "print(b5*a)"
   ]
  },
  {
   "cell_type": "code",
   "execution_count": 2,
   "metadata": {},
   "outputs": [
    {
     "name": "stdout",
     "output_type": "stream",
     "text": [
      "Penguins are lovely\n",
      "3\n",
      "19\n"
     ]
    }
   ],
   "source": [
    "a = input()\n",
    "words = a.split()\n",
    "words = len(words)\n",
    "letters = tuple(a)\n",
    "letters = len (letters)\n",
    "\n",
    "print(words)\n",
    "print(letters)\n"
   ]
  },
  {
   "cell_type": "code",
   "execution_count": 14,
   "metadata": {},
   "outputs": [
    {
     "name": "stdout",
     "output_type": "stream",
     "text": [
      "l\n",
      "a\n",
      "Hello\n",
      "Hello my name is Vl\n",
      "Hlom aei ld\n",
      "el ynm sVa\n",
      "dalV si eman ym olleH\n",
      "dl iea molH\n",
      "21\n"
     ]
    }
   ],
   "source": [
    "a = 'Hello my name is Vlad'\n",
    "\n",
    "print(a[3])\n",
    "print(a[-2])\n",
    "print(a[:5])\n",
    "print(a[:-2])\n",
    "print(a[::2])  \n",
    "print(a[1::2])  \n",
    "print(a[::-1]) \n",
    "print(a[::-2])\n",
    "print(len(a))"
   ]
  },
  {
   "cell_type": "code",
   "execution_count": 1,
   "metadata": {},
   "outputs": [
    {
     "name": "stdout",
     "output_type": "stream",
     "text": [
      "арозаупаланалапуазора\n",
      "yes\n"
     ]
    }
   ],
   "source": [
    "word = str(input())\n",
    "a = word [::-1]\n",
    "if word == a:\n",
    "  print(\"yes\")\n",
    "else:\n",
    "  print(\"no\")\n",
    "\n",
    "\n"
   ]
  },
  {
   "cell_type": "code",
   "execution_count": 1,
   "metadata": {},
   "outputs": [
    {
     "name": "stdout",
     "output_type": "stream",
     "text": [
      "python\n",
      "no\n"
     ]
    }
   ],
   "source": [
    "word1 = str(input())\n",
    "a1 = word1 [::-1]\n",
    "if word1 == a1:\n",
    "  print(\"yes\")\n",
    "else:\n",
    "  print(\"no\")"
   ]
  },
  {
   "cell_type": "code",
   "execution_count": null,
   "metadata": {},
   "outputs": [],
   "source": []
  }
 ],
 "metadata": {
  "kernelspec": {
   "display_name": "Python 3",
   "language": "python",
   "name": "python3"
  },
  "language_info": {
   "codemirror_mode": {
    "name": "ipython",
    "version": 3
   },
   "file_extension": ".py",
   "mimetype": "text/x-python",
   "name": "python",
   "nbconvert_exporter": "python",
   "pygments_lexer": "ipython3",
   "version": "3.7.0"
  }
 },
 "nbformat": 4,
 "nbformat_minor": 2
}
