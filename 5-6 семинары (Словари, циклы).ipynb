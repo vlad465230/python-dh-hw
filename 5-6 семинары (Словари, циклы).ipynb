{
 "cells": [
  {
   "cell_type": "code",
   "execution_count": 2,
   "metadata": {},
   "outputs": [],
   "source": [
    "# определение функции\n",
    "def sounds(sound):\n",
    "    vowels = [\"а\", \"о\", \"и\", \"е\", \"у\", \"ы\"]\n",
    "    if len(sound) != 1:\n",
    "        print(\"Введены неверные данные\")\n",
    "    else:\n",
    "        if sound in vowels:\n",
    "            return \"Это гласная!\"\n",
    "        else:\n",
    "            return \"Это согласная!\"\n",
    "\n"
   ]
  },
  {
   "cell_type": "code",
   "execution_count": 3,
   "metadata": {},
   "outputs": [
    {
     "name": "stdout",
     "output_type": "stream",
     "text": [
      "Введите букву русского алфавита\n",
      "р\n"
     ]
    },
    {
     "data": {
      "text/plain": [
       "'Это согласная!'"
      ]
     },
     "execution_count": 3,
     "metadata": {},
     "output_type": "execute_result"
    }
   ],
   "source": [
    "# вызов функции        \n",
    "sounds(input(\"Введите букву русского алфавита\\n\"))"
   ]
  },
  {
   "cell_type": "code",
   "execution_count": 4,
   "metadata": {},
   "outputs": [
    {
     "name": "stdout",
     "output_type": "stream",
     "text": [
      "1523\n",
      "134.4\n",
      "abcdef\n",
      "30\n"
     ]
    }
   ],
   "source": [
    "def addition(x, y):\n",
    "    return x + y\n",
    "\n",
    "print(addition(589, 934))\n",
    "print(addition(56, 78.4))\n",
    "print(addition(\"abc\", \"def\"))\n",
    "\n",
    "one = 7\n",
    "two = 23\n",
    "result = addition(one, two)\n",
    "print(result)"
   ]
  },
  {
   "cell_type": "code",
   "execution_count": 5,
   "metadata": {},
   "outputs": [
    {
     "name": "stdout",
     "output_type": "stream",
     "text": [
      "Это дом\n",
      "This is a cat\n",
      "Это cat\n"
     ]
    }
   ],
   "source": [
    "def this_is(word, lang = \"ru\"):\n",
    "    if lang == \"en\":\n",
    "        return \"This is a \" + word\n",
    "    if lang == \"ru\":\n",
    "        return \"Это \" + word\n",
    "    \n",
    "print(this_is(\"\"))\n",
    "print(this_is(\"cat\", \"en\"))\n",
    "print(this_is(\"cat\"))"
   ]
  },
  {
   "cell_type": "code",
   "execution_count": 2,
   "metadata": {},
   "outputs": [],
   "source": [
    "telephone_number = {\"Влад\":79192512082, \"Александр\":79153262909, \"Мария\":79876547744, \"Иван\":79874117890, \"Дарья\":79456748900}\n",
    "def function1 (name, number):\n",
    "    if name in telephone_number:\n",
    "        print(telephone_number[name])\n",
    "    else: \n",
    "        print(\"Данные отсутствуют\")\n",
    "        telephone_number[name] = input(\"Введите номер\\n\")\n",
    "    \n",
    "        "
   ]
  },
  {
   "cell_type": "code",
   "execution_count": 3,
   "metadata": {},
   "outputs": [
    {
     "name": "stdout",
     "output_type": "stream",
     "text": [
      "79192512082\n"
     ]
    }
   ],
   "source": [
    "function1(\"Влад\",telephone_number)"
   ]
  },
  {
   "cell_type": "code",
   "execution_count": 4,
   "metadata": {},
   "outputs": [
    {
     "name": "stdout",
     "output_type": "stream",
     "text": [
      "Данные отсутствуют\n",
      "Введите номер\n",
      "8844448888\n"
     ]
    }
   ],
   "source": [
    "function1(\"Ира\",telephone_number)"
   ]
  },
  {
   "cell_type": "code",
   "execution_count": 5,
   "metadata": {},
   "outputs": [
    {
     "name": "stdout",
     "output_type": "stream",
     "text": [
      "{'Влад': 79192512082, 'Александр': 79153262909, 'Мария': 79876547744, 'Иван': 79874117890, 'Дарья': 79456748900, 'Ира': '8844448888'}\n"
     ]
    }
   ],
   "source": [
    "print(telephone_number)"
   ]
  },
  {
   "cell_type": "code",
   "execution_count": 1,
   "metadata": {},
   "outputs": [
    {
     "name": "stdout",
     "output_type": "stream",
     "text": [
      "Введите слово\n",
      "python\n",
      "python\n",
      "pytho\n",
      "pyth\n",
      "pyt\n",
      "py\n",
      "p\n",
      "Букв больше нет!\n"
     ]
    }
   ],
   "source": [
    "word = input(\"Введите слово\\n\")\n",
    "\n",
    "while len(word) > 0:\n",
    "    print(word)\n",
    "    word = word[:-1] \n",
    "else:\n",
    "    print(\"Букв больше нет!\")"
   ]
  },
  {
   "cell_type": "code",
   "execution_count": 2,
   "metadata": {},
   "outputs": [
    {
     "name": "stdout",
     "output_type": "stream",
     "text": [
      "Введите слово\n",
      "python\n",
      "p y t h o n "
     ]
    }
   ],
   "source": [
    "word = input(\"Введите слово\\n\")\n",
    "\n",
    "# разреженный текст\n",
    "for letter in word:\n",
    "    print(letter + ' ', end = '')"
   ]
  },
  {
   "cell_type": "code",
   "execution_count": 3,
   "metadata": {},
   "outputs": [
    {
     "name": "stdout",
     "output_type": "stream",
     "text": [
      "I have been to Russia\n",
      "I have been to France\n",
      "I have been to Turkey\n",
      "I have been to Georgia\n"
     ]
    }
   ],
   "source": [
    "capitals = {\"Russia\": \"Moscow\", \"France\": \"Paris\", \"Turkey\": \"Ankara\", \"Georgia\": \"Tbilisi\"}\n",
    "\n",
    "# итерация по ключам словаря\n",
    "for key in capitals.keys():\n",
    "    print(\"I have been to\", key)"
   ]
  },
  {
   "cell_type": "code",
   "execution_count": 4,
   "metadata": {},
   "outputs": [
    {
     "name": "stdout",
     "output_type": "stream",
     "text": [
      "There is a city called Moscow\n",
      "There is a city called Paris\n",
      "There is a city called Ankara\n",
      "There is a city called Tbilisi\n"
     ]
    }
   ],
   "source": [
    "# итерация по значениям словаря\n",
    "for value in capitals.values():\n",
    "    print(\"There is a city called\", value)"
   ]
  },
  {
   "cell_type": "code",
   "execution_count": 5,
   "metadata": {},
   "outputs": [
    {
     "name": "stdout",
     "output_type": "stream",
     "text": [
      "Moscow is the capital of Russia\n",
      "Paris is the capital of France\n",
      "Ankara is the capital of Turkey\n",
      "Tbilisi is the capital of Georgia\n"
     ]
    }
   ],
   "source": [
    "# итерация по ключам и значениям\n",
    "for k, v in capitals.items():\n",
    "    print(v, \"is the capital of\", k)"
   ]
  },
  {
   "cell_type": "code",
   "execution_count": 6,
   "metadata": {},
   "outputs": [
    {
     "name": "stdout",
     "output_type": "stream",
     "text": [
      "aaaaa!\n",
      "aaaaaa!\n",
      "aaaaaaa!\n",
      "aaaaaaaa!\n",
      "aaaaaaaaa!\n"
     ]
    }
   ],
   "source": [
    "# от 5 до 10\n",
    "for i in range(5, 10): \n",
    "    print(\"a\" * i, \"!\", sep=\"\")"
   ]
  },
  {
   "cell_type": "code",
   "execution_count": 7,
   "metadata": {},
   "outputs": [
    {
     "name": "stdout",
     "output_type": "stream",
     "text": [
      "bbbbb!\n",
      "bbbbbbbb!\n",
      "bbbbbbbbbbb!\n",
      "bbbbbbbbbbbbbb!\n",
      "bbbbbbbbbbbbbbbbb!\n"
     ]
    }
   ],
   "source": [
    "for i in range(5, 20, 3): \n",
    "    print(\"b\" * i, \"!\", sep=\"\")"
   ]
  },
  {
   "cell_type": "code",
   "execution_count": 8,
   "metadata": {},
   "outputs": [
    {
     "name": "stdout",
     "output_type": "stream",
     "text": [
      "cat\n",
      "is\n",
      "on\n",
      "mat\n"
     ]
    }
   ],
   "source": [
    "for word in \"the cat is on the mat\".split():\n",
    "    if word == \"the\":\n",
    "        continue\n",
    "    print(word)"
   ]
  },
  {
   "cell_type": "code",
   "execution_count": 9,
   "metadata": {},
   "outputs": [
    {
     "name": "stdout",
     "output_type": "stream",
     "text": [
      "the\n",
      "cat\n"
     ]
    }
   ],
   "source": [
    "for word in \"the cat is on the mat\".split():\n",
    "    if len(word) < 3:\n",
    "        break\n",
    "    print(word)"
   ]
  },
  {
   "cell_type": "code",
   "execution_count": 2,
   "metadata": {},
   "outputs": [
    {
     "name": "stdout",
     "output_type": "stream",
     "text": [
      "Russia Moscow\n",
      "France Paris\n",
      "Turkey Ankara\n",
      "Georgia Tbilisi\n"
     ]
    }
   ],
   "source": [
    "g = {\"Russia\": \"Moscow\", \"France\": \"Paris\", \"Turkey\": \"Ankara\", \"Georgia\": \"Tbilisi\", \"Italy\": \"Rome\", \"Great Britain\": \"London\"}\n",
    "for k, v in g.items():\n",
    "    if k == \"Italy\":\n",
    "        break\n",
    "    print(k,v)"
   ]
  },
  {
   "cell_type": "code",
   "execution_count": 4,
   "metadata": {},
   "outputs": [],
   "source": [
    "r = \"\"\"варкалось хливкие шорьки пырялись по наве и хрюкотали зелюки как мюмзики в мове о бойся бармаглота сын он так свирлеп и дик а в глyще рымит исполин злопастный брандашмыг\"\"\"\n"
   ]
  },
  {
   "cell_type": "code",
   "execution_count": null,
   "metadata": {},
   "outputs": [],
   "source": []
  }
 ],
 "metadata": {
  "kernelspec": {
   "display_name": "Python 3",
   "language": "python",
   "name": "python3"
  },
  "language_info": {
   "codemirror_mode": {
    "name": "ipython",
    "version": 3
   },
   "file_extension": ".py",
   "mimetype": "text/x-python",
   "name": "python",
   "nbconvert_exporter": "python",
   "pygments_lexer": "ipython3",
   "version": "3.7.0"
  }
 },
 "nbformat": 4,
 "nbformat_minor": 2
}
