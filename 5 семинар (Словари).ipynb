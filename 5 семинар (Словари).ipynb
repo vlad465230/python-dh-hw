{
 "cells": [
  {
   "cell_type": "code",
   "execution_count": 2,
   "metadata": {},
   "outputs": [],
   "source": [
    "# определение функции\n",
    "def sounds(sound):\n",
    "    vowels = [\"а\", \"о\", \"и\", \"е\", \"у\", \"ы\"]\n",
    "    if len(sound) != 1:\n",
    "        print(\"Введены неверные данные\")\n",
    "    else:\n",
    "        if sound in vowels:\n",
    "            return \"Это гласная!\"\n",
    "        else:\n",
    "            return \"Это согласная!\"\n",
    "\n"
   ]
  },
  {
   "cell_type": "code",
   "execution_count": 3,
   "metadata": {},
   "outputs": [
    {
     "name": "stdout",
     "output_type": "stream",
     "text": [
      "Введите букву русского алфавита\n",
      "р\n"
     ]
    },
    {
     "data": {
      "text/plain": [
       "'Это согласная!'"
      ]
     },
     "execution_count": 3,
     "metadata": {},
     "output_type": "execute_result"
    }
   ],
   "source": [
    "# вызов функции        \n",
    "sounds(input(\"Введите букву русского алфавита\\n\"))"
   ]
  },
  {
   "cell_type": "code",
   "execution_count": 4,
   "metadata": {},
   "outputs": [
    {
     "name": "stdout",
     "output_type": "stream",
     "text": [
      "1523\n",
      "134.4\n",
      "abcdef\n",
      "30\n"
     ]
    }
   ],
   "source": [
    "def addition(x, y):\n",
    "    return x + y\n",
    "\n",
    "print(addition(589, 934))\n",
    "print(addition(56, 78.4))\n",
    "print(addition(\"abc\", \"def\"))\n",
    "\n",
    "one = 7\n",
    "two = 23\n",
    "result = addition(one, two)\n",
    "print(result)"
   ]
  },
  {
   "cell_type": "code",
   "execution_count": 5,
   "metadata": {},
   "outputs": [
    {
     "name": "stdout",
     "output_type": "stream",
     "text": [
      "Это дом\n",
      "This is a cat\n",
      "Это cat\n"
     ]
    }
   ],
   "source": [
    "def this_is(word, lang = \"ru\"):\n",
    "    if lang == \"en\":\n",
    "        return \"This is a \" + word\n",
    "    if lang == \"ru\":\n",
    "        return \"Это \" + word\n",
    "    \n",
    "print(this_is(\"\"))\n",
    "print(this_is(\"cat\", \"en\"))\n",
    "print(this_is(\"cat\"))"
   ]
  },
  {
   "cell_type": "code",
   "execution_count": null,
   "metadata": {},
   "outputs": [],
   "source": [
    "telephones = {Влад:79192512082, Александр:79153262909, Мария:79876547744, Иван:79874117890, Дарья:79456748900}\n",
    "def my_function (name, )\n",
    "    if name in telephones\n",
    "        return \n",
    "    if name not in telephones \n",
    "        print(\"Данные отсутствуют\")\n",
    "        "
   ]
  }
 ],
 "metadata": {
  "kernelspec": {
   "display_name": "Python 3",
   "language": "python",
   "name": "python3"
  }
 },
 "nbformat": 4,
 "nbformat_minor": 2
}
