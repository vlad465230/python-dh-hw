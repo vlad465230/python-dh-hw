{
 "cells": [
  {
   "cell_type": "markdown",
   "metadata": {},
   "source": [
    "# Домашнее задание №4\n",
    "## Задание №1\n",
    "\n",
    "1) Скачайте из папки с домашними заданиями английский текст первой книги о Гарри Поттере. Он должен быть сохранен отдельным файлом."
   ]
  },
  {
   "cell_type": "code",
   "execution_count": 27,
   "metadata": {},
   "outputs": [],
   "source": [
    "g =  open(\"HarryPotter\", \"r\", encoding=\"utf-8\")\n",
    "potter = g.read() #читаем файл и записываем текст из файла в переменную\n",
    "g.close()"
   ]
  },
  {
   "cell_type": "markdown",
   "metadata": {},
   "source": [
    "2) Очистите текст от пунктуации.  \n",
    " \n"
   ]
  },
  {
   "cell_type": "code",
   "execution_count": 28,
   "metadata": {},
   "outputs": [],
   "source": [
    "# очищаем текст от пунктуации с помощью генератора списков\n",
    "no_punct = [word.strip(\"!?«»'—'.,-\") for word in potter.split()]\n"
   ]
  },
  {
   "cell_type": "markdown",
   "metadata": {},
   "source": [
    "Приведите его к нижнему регистру"
   ]
  },
  {
   "cell_type": "code",
   "execution_count": 29,
   "metadata": {},
   "outputs": [],
   "source": [
    "potter2 = []\n",
    "for word in no_punct: #проходимся циклом по списку и приводим все буквы к нижнему регистру\n",
    "    if word.isalpha():\n",
    "        potter2.append(word.lower())"
   ]
  },
  {
   "cell_type": "markdown",
   "metadata": {},
   "source": [
    "Лемматизируйте и запишите в новый файл."
   ]
  },
  {
   "cell_type": "code",
   "execution_count": 31,
   "metadata": {},
   "outputs": [
    {
     "data": {
      "text/plain": [
       "['mr',\n",
       " 'and',\n",
       " 'mr',\n",
       " 'dursley',\n",
       " 'of',\n",
       " 'number',\n",
       " 'four',\n",
       " 'privet',\n",
       " 'drive',\n",
       " 'be',\n",
       " 'proud',\n",
       " 'to',\n",
       " 'say',\n",
       " 'that',\n",
       " 'they',\n",
       " 'be',\n",
       " 'perfectly',\n",
       " 'normal',\n",
       " 'thank',\n",
       " 'you',\n",
       " 'very',\n",
       " 'much',\n",
       " 'they',\n",
       " 'be',\n",
       " 'the',\n",
       " 'last',\n",
       " 'people',\n",
       " 'expect',\n",
       " 'to',\n",
       " 'be']"
      ]
     },
     "execution_count": 31,
     "metadata": {},
     "output_type": "execute_result"
    }
   ],
   "source": [
    "from nltk.stem import WordNetLemmatizer\n",
    "from nltk import word_tokenize, pos_tag \n",
    "\n",
    "#лемматизируем текст\n",
    "wnl = WordNetLemmatizer()\n",
    "l = [wnl.lemmatize(i,j[0].lower()) if j[0].lower() in ['a','n','v'] else wnl.lemmatize(i) for i,j in pos_tag(word_tokenize(lemmas))] \n",
    "#нашел код для лемматизации в интернете, без него nltk абсолютно ничего не лемматизировал\n",
    "#хотя 'was' все равно меняет на 'wa'\n",
    "\n",
    "l[:30]"
   ]
  },
  {
   "cell_type": "code",
   "execution_count": 40,
   "metadata": {},
   "outputs": [],
   "source": [
    "#соединяем через пробел текст в строку\n",
    "lemmas = ' '.join(l) \n",
    "\n",
    "#создаем функцию, которая записывает лемм. текст в новый файл\n",
    "with open('lemmas.txt', 'w', encoding='utf-8') as f: \n",
    "    for d in lemmas:\n",
    "        f.write(d)\n",
    "    f.close()"
   ]
  },
  {
   "cell_type": "markdown",
   "metadata": {},
   "source": [
    "Проверьте, выполняется ли здесь закон Ципфа. Для этого постройте линейную диаграмму, где по оси Х будет ранг (порядковый номер) слова в отсортированном частотном словаре, а по оси Y - относительная частота (не ipm, а просто абсолютная частота, разделенная на количество слов в тексте)."
   ]
  },
  {
   "cell_type": "code",
   "execution_count": 41,
   "metadata": {},
   "outputs": [],
   "source": [
    "#высчитываем x - ранг (порядковый номер) слова в отсортированном частотном словаре\n",
    "from collections import Counter \n",
    "\n",
    "#с помощью counts считаем частотность слов в тексте\n",
    "counts = Counter(lemmas.split())\n",
    "counts_dict = dict(counts) #делаем из массива словарь\n",
    "# сортируем словарь\n",
    "sorted_counts = sorted(counts_dict.items(), key=lambda x: x[1], reverse=True)\n",
    "bb = dict(sorted_counts) #делаем из массива словарь\n",
    "#меняем значение в словаре на порядковый номер\n",
    "bb1 = {key: rank for rank, key in enumerate(sorted(bb, key=bb.get), 1)}  "
   ]
  },
  {
   "cell_type": "code",
   "execution_count": 42,
   "metadata": {},
   "outputs": [],
   "source": [
    "#считаем y -  относительная частота (не ipm, а просто абсолютная частота, разделенная на количество слов в тексте)\n",
    "\n",
    "quant = len(lemmas.split()) #счиатем кол-во слов в тексте\n",
    "y = {} #создаем пустой словарь \n",
    "\n",
    "#создаем цикл который будет записывать в словарь новые ключи и значения\n",
    "for word, count in counts_dict.items(): #items достает из словаря все пары ключей со значением\n",
    "    chastota = count/quant #рассчитываем относительную частоту ipm  для этого делим значения словаря на кол-во слов в тексте\n",
    "    y[word] = chastota #ключ - слово, значение - относительная частота\n",
    "\n",
    "# сортируем словарь\n",
    "sorted_y = sorted(y.items(), key=lambda x: x[1], reverse=True)\n",
    "dd = dict(sorted_y) #делаем из массива словарь\n"
   ]
  },
  {
   "cell_type": "code",
   "execution_count": 43,
   "metadata": {},
   "outputs": [
    {
     "data": {
      "image/png": "[encoded data removed]",
      "text/plain": [
       "<Figure size 432x288 with 1 Axes>"
      ]
     },
     "metadata": {},
     "output_type": "display_data"
    }
   ],
   "source": [
    "import matplotlib\n",
    "import matplotlib.pyplot as plt\n",
    "from matplotlib import style  # добавляем стили\n",
    "style.use('ggplot')  # выбираем стиль ggplot\n",
    "\n",
    "X = list(bb1.values()) # достаем из словаря только значения (порядковый номер) и делаем из этого массив\n",
    "Y = list(dd.values()) #достаем из словаря только значения (относительная частота) и делаем из этого массив\n",
    "         \n",
    "plt.plot(X,Y, color='m'), # рисуем график - последовательно соединяем точки с координатами из X и Y\n",
    "plt.title(\"Закон Цимпфа\")\n",
    "plt.xlabel(\"Ранг слова в частотном словаре\", color='r')\n",
    "plt.ylabel(\"Относительная частота\", color='r')\n",
    "plt.show()"
   ]
  },
  {
   "cell_type": "markdown",
   "metadata": {},
   "source": [
    "3) Очистите текст от стоп-слов."
   ]
  },
  {
   "cell_type": "code",
   "execution_count": 44,
   "metadata": {},
   "outputs": [],
   "source": [
    "from nltk.corpus import stopwords\n",
    "from nltk.tokenize import word_tokenize\n",
    "\n",
    "sw = stopwords.words('english') #заносим в переменную английские стоп-слова из библиотеки\n",
    "\n",
    "#очищаем текст от стоп-слов\n",
    "no_stop_words = [w for w in word_tokenize(lemmas) if w not in sw]"
   ]
  },
  {
   "cell_type": "markdown",
   "metadata": {},
   "source": [
    "Постройте barplot для 30 самых частотных слов. Эти слова должны быть по оси Х в виде подписей к делениям. Значениями по этой оси будет ряд чисел от 0 до 30."
   ]
  },
  {
   "cell_type": "code",
   "execution_count": 45,
   "metadata": {},
   "outputs": [],
   "source": [
    "#с помощью counts считаем частотность слов в тексте\n",
    "counts1 = Counter(no_stop_words)\n",
    "counts_dict1 = dict(counts1) #делаем из массива словарь\n",
    "# сортируем словарь\n",
    "sorted_counts1 = sorted(counts_dict1.items(), key=lambda x: x[1], reverse=True)\n",
    "sorted_counts2 = dict(sorted_counts1) #словарь делаем из массива\n",
    "z = sorted_counts2.keys()\n",
    "z1 = list(z) #массив слов \n",
    "r = sorted_counts2.values()\n",
    "r1 = list(r) #массив кол-ва употрблений слов\n"
   ]
  },
  {
   "cell_type": "code",
   "execution_count": 46,
   "metadata": {},
   "outputs": [
    {
     "data": {
      "image/png": "[encoded data removed]",
      "text/plain": [
       "<Figure size 432x288 with 1 Axes>"
      ]
     },
     "metadata": {},
     "output_type": "display_data"
    }
   ],
   "source": [
    "X = [i for i in range(0,30)] #берем только первые 30 слов\n",
    "Y = r1[:30] #первые 30 значений в словаре\n",
    "\n",
    "plt.bar(X, Y, color='g')\n",
    "plt.xticks(X, z1, color='r', rotation=90) #делаем подписи по оси x - слова\n",
    "plt.title(\"30 самых частотных слов в Гарри Поттере\", color='y')\n",
    "plt.xlabel(\"Слова\", color='b')\n",
    "plt.ylabel(\"Кол-во упоминаний в тексте\", color='b')\n",
    "plt.show()"
   ]
  }
 ],
 "metadata": {
  "kernelspec": {
   "display_name": "Python 3",
   "language": "python",
   "name": "python3"
  },
  "language_info": {
   "codemirror_mode": {
    "name": "ipython",
    "version": 3
   },
   "file_extension": ".py",
   "mimetype": "text/x-python",
   "name": "python",
   "nbconvert_exporter": "python",
   "pygments_lexer": "ipython3",
   "version": "3.7.0"
  }
 },
 "nbformat": 4,
 "nbformat_minor": 2
}
