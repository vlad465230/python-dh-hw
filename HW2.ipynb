{
 "cells": [
  {
   "cell_type": "code",
   "execution_count": 6,
   "metadata": {},
   "outputs": [
    {
     "name": "stdout",
     "output_type": "stream",
     "text": [
      "['варкалось', 'хливкие', 'шорьки', 'пырялись', 'по', 'наве', 'и', 'хрюкотали', 'зелюки', 'как', 'мюмзики', 'в', 'мове', 'о', 'бойся', 'бармаглота', 'сын', 'он', 'так', 'свирлеп', 'и', 'дик', 'а', 'в', 'глyще', 'рымит', 'исполин', 'злопастный', 'брандашмыг']\n"
     ]
    }
   ],
   "source": [
    "#Первое задание\n",
    "text = 'варкалось хливкие шорьки пырялись по наве и хрюкотали зелюки как мюмзики в мове о бойся бармаглота сын он так свирлеп и дик а в глyще рымит исполин злопастный брандашмыг'\n",
    "sent = text.split() #разделяем текст на слова\n",
    "print (text.split()) \n"
   ]
  },
  {
   "cell_type": "code",
   "execution_count": 8,
   "metadata": {},
   "outputs": [
    {
     "name": "stdout",
     "output_type": "stream",
     "text": [
      "варкалось\n",
      "хливкие\n",
      "шорьки\n",
      "пырялись\n",
      "по\n",
      "наве\n",
      "и\n",
      "хрюкотали\n",
      "зелюки\n",
      "как\n",
      "мюмзики\n",
      "в\n",
      "мове\n",
      "о\n",
      "бойся\n",
      "бармаглота\n",
      "сын\n",
      "он\n",
      "так\n",
      "свирлеп\n",
      "и\n",
      "дик\n",
      "а\n",
      "в\n",
      "глyще\n",
      "рымит\n",
      "исполин\n",
      "злопастный\n",
      "брандашмыг\n",
      "['варкалось', 'хливкие', 'шорьки', 'пырялись', 'по', 'наве', 'и', 'хрюкотали', 'зелюки', 'как', 'мюмзики', 'в', 'мове', 'о', 'бойся', 'бармаглота', 'сын', 'он', 'так', 'свирлеп', 'и', 'дик', 'а', 'в', 'глyще', 'рымит', 'исполин', 'злопастный', 'брандашмыг']\n"
     ]
    }
   ],
   "source": [
    "bigramy = []                      #(не сделано)\n",
    "for word in text.split():\n",
    "    if word.isalpha():\n",
    "        print(word)\n",
    "        bigramy.append(word)\n",
    "        \n",
    "print(bigramy)"
   ]
  },
  {
   "cell_type": "code",
   "execution_count": 1,
   "metadata": {},
   "outputs": [
    {
     "name": "stdout",
     "output_type": "stream",
     "text": [
      "/Users/vladislavturin/Desktop/Python/python-dh-hw\n",
      ".DS_Store\n",
      "8 семинар.ipynb\n",
      ".gitignore.rtf\n",
      "README.md\n",
      "HW1.ipynb\n",
      ".ipynb\n",
      ".ipynb_checkpoints\n",
      "5-6 семинары (Словари, циклы).ipynb\n",
      "poems\n",
      ".git\n",
      "7 семинар.ipynb\n",
      "HW2.ipynb\n",
      "9\n"
     ]
    }
   ],
   "source": [
    "#Второе задание\n",
    "import os #импортируем модуль\n",
    "print(os.getcwd()) #печатаем рабочую директорию\n",
    "for file in os.listdir('.'): \n",
    "    print(file) #печатаем название всех файлов в рабочей директории\n",
    "print(len(file)) #считаем кол-во файлов в директории\n",
    "\n",
    "\n"
   ]
  },
  {
   "cell_type": "code",
   "execution_count": 2,
   "metadata": {},
   "outputs": [],
   "source": [
    "os.chdir('./poems') #переходим в папку \n",
    "\n",
    "for root, dirs, files in os.walk('/Users/vladislavturin/Desktop/Python/python-dh-hw/poems'): # указываем путь к папке \n",
    "    for name in files:\n",
    "        with open(os.path.join(root, name), 'r', encoding='utf-8') as f: #открываем файл с кодировкой для чтения\n",
    "            text = f.read() #читаем файл\n",
    "            with open('poems.txt', 'a', encoding='utf-8') as d: #создаем папку poems и открываем файл с кодирвкой для добавления информации\n",
    "                d.write(text) #записываем текст в файл\n",
    "    "
   ]
  },
  {
   "cell_type": "code",
   "execution_count": 38,
   "metadata": {},
   "outputs": [
    {
     "name": "stdout",
     "output_type": "stream",
     "text": [
      "270\n",
      "['Несчастная', 'кошка', 'порезала', 'и', 'ни', 'шагу', 'не', 'может', 'чтобы', 'вылечить', 'кошкину', 'лапу', 'Воздушные', 'шарики', 'надо', 'И', 'сразу', 'столпился', 'народ', 'на', 'и', 'и', 'на', 'кошку', 'А', 'кошка', 'отчасти', 'идет', 'по', 'Отчасти', 'по', 'воздуху', 'плавно']\n"
     ]
    }
   ],
   "source": [
    "#Третье задание\n",
    "stishok = \"\"\"Несчастная кошка порезала лапу- \n",
    "Сидит, и ни шагу не может ступить.\n",
    "Скорей, чтобы вылечить кошкину лапу\n",
    "Воздушные шарики надо купить!\n",
    "\n",
    "И сразу столпился народ на дороге-\n",
    "Шумит, и кричит, и на кошку глядит.\n",
    "А кошка отчасти идет по дороге,\n",
    "Отчасти по воздуху плавно летит!\"\"\"\n",
    "\n",
    "print(len(stishok)) #считаем кол-во символов в переменной\n",
    "\n",
    "words = [w for w in stishok.split() if w.isalpha()] #избавляем текст от пунктуации с помощью list of comprehensions\n",
    "        \n",
    "print(words) #печатаем слова текста без знаков пунктуации"
   ]
  },
  {
   "cell_type": "code",
   "execution_count": 39,
   "metadata": {},
   "outputs": [
    {
     "name": "stdout",
     "output_type": "stream",
     "text": [
      "Несчастная кошка порезала и ни шагу не может чтобы вылечить кошкину лапу Воздушные шарики надо И сразу столпился народ на и и на кошку А кошка отчасти идет по Отчасти по воздуху плавно\n",
      "['Н', 'В', 'И', 'А', 'О']\n"
     ]
    }
   ],
   "source": [
    "stishok2 = ' '.join(words) #объединяюь все слова в списке в строку через пробел\n",
    "print(stishok2)\n",
    "\n",
    "slova = []\n",
    "for word in stishok2:\n",
    "    if word.isupper():\n",
    "        word.lower()\n",
    "        slova.append(word)\n",
    "        \n",
    "print(slova)   #НЕ понимаю, почему выводятся только буквы, а не слова (не сделано)"
   ]
  },
  {
   "cell_type": "code",
   "execution_count": 43,
   "metadata": {},
   "outputs": [
    {
     "name": "stdout",
     "output_type": "stream",
     "text": [
      "44\n"
     ]
    }
   ],
   "source": [
    "words = stishok.split() #считаем кол-во слов в тексте \n",
    "print(len(words))"
   ]
  },
  {
   "cell_type": "code",
   "execution_count": 44,
   "metadata": {},
   "outputs": [
    {
     "name": "stdout",
     "output_type": "stream",
     "text": [
      "{'О', 'Ш', 'С', 'п', ' ', 'е', 'м', '!', 'г', 'р', 'в', 'б', 'я', 'ч', 'И', 'к', 'з', 'ы', '\\n', 'ь', '-', '.', 'с', 'й', 'а', 'т', 'А', 'Н', 'н', 'и', 'В', 'ш', 'о', 'х', 'у', 'ж', 'д', 'л', ','}\n"
     ]
    }
   ],
   "source": [
    "uniq = set(stishok) #узнаем кол-во уникальных слов (не сделано)\n",
    "print(uniq)"
   ]
  },
  {
   "cell_type": "code",
   "execution_count": 45,
   "metadata": {},
   "outputs": [
    {
     "name": "stdout",
     "output_type": "stream",
     "text": [
      "дит, и ни \n"
     ]
    }
   ],
   "source": [
    "print(stishok[35:45])   #печатаю последние 10 слов (не сделано)"
   ]
  },
  {
   "cell_type": "code",
   "execution_count": null,
   "metadata": {},
   "outputs": [],
   "source": [
    "#Посчитать биграммы.\n",
    "\n"
   ]
  },
  {
   "cell_type": "code",
   "execution_count": null,
   "metadata": {},
   "outputs": [],
   "source": [
    "#Соединить полученный список в строку. Слова в строке должны быть написаны через знак переноса строки."
   ]
  },
  {
   "cell_type": "code",
   "execution_count": null,
   "metadata": {},
   "outputs": [],
   "source": [
    "#Распечатать с 20 по 30 символ этой строки (включительно)."
   ]
  }
 ],
 "metadata": {
  "kernelspec": {
   "display_name": "Python 3",
   "language": "python",
   "name": "python3"
  },
  "language_info": {
   "codemirror_mode": {
    "name": "ipython",
    "version": 3
   },
   "file_extension": ".py",
   "mimetype": "text/x-python",
   "name": "python",
   "nbconvert_exporter": "python",
   "pygments_lexer": "ipython3",
   "version": "3.7.0"
  }
 },
 "nbformat": 4,
 "nbformat_minor": 2
}
