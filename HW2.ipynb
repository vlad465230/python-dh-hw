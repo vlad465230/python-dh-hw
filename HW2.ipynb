{
 "cells": [
  {
   "cell_type": "code",
   "execution_count": 60,
   "metadata": {},
   "outputs": [
    {
     "name": "stdout",
     "output_type": "stream",
     "text": [
      "['варкалосьхливкие', 'хливкиешорьки', 'шорькипырялись', 'пырялисьпо', 'понаве', 'навеи', 'ихрюкотали', 'хрюкотализелюки', 'зелюкикак', 'какмюмзики', 'мюмзикив', 'вмове', 'мовео', 'обойся', 'бойсябармаглота', 'бармаглотасын', 'сынон', 'онтак', 'таксвирлеп', 'свирлепи', 'идик', 'дика', 'ав', 'вглyще', 'глyщерымит', 'рымитисполин', 'исполинзлопастный', 'злопастныйбрандашмыг']\n"
     ]
    }
   ],
   "source": [
    "#Первое задание\n",
    "a = ('варкалось хливкие шорьки пырялись по наве и хрюкотали зелюки как мюмзики в мове о бойся бармаглота сын он так свирлеп и дик а в глyще рымит исполин злопастный брандашмыг')\n",
    "text = a.split() #разделяем текст на слова\n",
    "bigramy = []                      \n",
    "for word in range(len(sent)-1):  #проходимся по всей длине текста , но с вычетом 1 элемента \n",
    "        bigramy.append(text[word]+text[word+1]) #добавляем в список биграммы \n",
    "        \n",
    "print(bigramy)"
   ]
  },
  {
   "cell_type": "code",
   "execution_count": 1,
   "metadata": {},
   "outputs": [
    {
     "name": "stdout",
     "output_type": "stream",
     "text": [
      "/Users/vladislavturin/Desktop/Python/python-dh-hw\n",
      ".DS_Store\n",
      "8 семинар.ipynb\n",
      ".gitignore.rtf\n",
      "README.md\n",
      "HW1.ipynb\n",
      ".ipynb\n",
      ".ipynb_checkpoints\n",
      "5-6 семинары (Словари, циклы).ipynb\n",
      "poems\n",
      ".git\n",
      "7 семинар.ipynb\n",
      "HW2.ipynb\n",
      "9\n"
     ]
    }
   ],
   "source": [
    "#Второе задание\n",
    "import os #импортируем модуль\n",
    "print(os.getcwd()) #печатаем рабочую директорию\n",
    "for file in os.listdir('.'): \n",
    "    print(file) #печатаем название всех файлов в рабочей директории\n",
    "print(len(file)) #считаем кол-во файлов в директории\n",
    "\n",
    "\n"
   ]
  },
  {
   "cell_type": "code",
   "execution_count": 2,
   "metadata": {},
   "outputs": [],
   "source": [
    "os.chdir('./poems') #переходим в папку \n",
    "\n",
    "for root, dirs, files in os.walk('/Users/vladislavturin/Desktop/Python/python-dh-hw/poems'): # указываем путь к папке \n",
    "    for name in files:\n",
    "        with open(os.path.join(root, name), 'r', encoding='utf-8') as f: #открываем файл с кодировкой для чтения\n",
    "            text = f.read() #читаем файл\n",
    "            with open('poems.txt', 'a', encoding='utf-8') as d: #создаем файл poems и открываем его с кодирвкой для добавления информации\n",
    "                d.write(text) #записываем текст в файл\n",
    "    "
   ]
  },
  {
   "cell_type": "code",
   "execution_count": 61,
   "metadata": {},
   "outputs": [
    {
     "name": "stdout",
     "output_type": "stream",
     "text": [
      "280\n",
      "['Несчастная', 'кошка', 'порезала', 'лапу', 'и', 'ни', 'шагу', 'не', 'может', 'ступить', 'Скорей', 'чтобы', 'вылечить', 'кошкину', 'лапу', 'Воздушные', 'шарики', 'надо', 'купить', 'И', 'сразу', 'столпился', 'народ', 'на', 'дороге', 'Шумит', 'и', 'кричит', 'и', 'на', 'кошку', 'глядит', 'А', 'кошка', 'отчасти', 'идет', 'по', 'дороге', 'Отчасти', 'по', 'воздуху', 'плавно', 'летит']\n"
     ]
    }
   ],
   "source": [
    "#Третье задание\n",
    "stishok = '''Несчастная кошка порезала лапу - \n",
    "Сидит, и ни шагу не может ступить .\n",
    "Скорей , чтобы вылечить кошкину лапу\n",
    "Воздушные шарики надо купить !\n",
    "\n",
    "И сразу столпился народ на дороге -\n",
    "Шумит , и кричит , и на кошку глядит .\n",
    "А кошка отчасти идет по дороге ,\n",
    "Отчасти по воздуху плавно летит !'''\n",
    "\n",
    "print(len(stishok)) #считаем кол-во символов в переменной\n",
    "\n",
    "words = [w for w in stishok.split() if w.isalpha()] #избавляем текст от пунктуации с помощью list of comprehension,\n",
    "\n",
    "print(words) #печатаем слова текста без знаков пунктуации\n",
    "\n",
    "\n",
    "\n"
   ]
  },
  {
   "cell_type": "code",
   "execution_count": 62,
   "metadata": {},
   "outputs": [
    {
     "name": "stdout",
     "output_type": "stream",
     "text": [
      "Несчастная кошка порезала лапу и ни шагу не может ступить Скорей чтобы вылечить кошкину лапу Воздушные шарики надо купить И сразу столпился народ на дороге Шумит и кричит и на кошку глядит А кошка отчасти идет по дороге Отчасти по воздуху плавно летит\n",
      "['несчастная', 'кошка', 'порезала', 'лапу', 'и', 'ни', 'шагу', 'не', 'может', 'ступить', 'скорей', 'чтобы', 'вылечить', 'кошкину', 'лапу', 'воздушные', 'шарики', 'надо', 'купить', 'и', 'сразу', 'столпился', 'народ', 'на', 'дороге', 'шумит', 'и', 'кричит', 'и', 'на', 'кошку', 'глядит', 'а', 'кошка', 'отчасти', 'идет', 'по', 'дороге', 'отчасти', 'по', 'воздуху', 'плавно', 'летит']\n"
     ]
    }
   ],
   "source": [
    "stishok2 = ' '.join(words) #объединяю все слова в списке в строку через пробел\n",
    "print(stishok2)\n",
    "\n",
    "slova = []\n",
    "for word in stishok2.split(): #проходим циклом по списку, \n",
    "    if word.istitle():\n",
    "        slova.append(word.lower()) #заглавные буквы делаем строчными и добавляем в другой список\n",
    "    else:\n",
    "        slova.append(word) #добавляем остальные слова в список\n",
    "        \n",
    "print(slova)   "
   ]
  },
  {
   "cell_type": "code",
   "execution_count": 3,
   "metadata": {},
   "outputs": [
    {
     "name": "stdout",
     "output_type": "stream",
     "text": [
      "44\n"
     ]
    }
   ],
   "source": [
    "words1 = stishok.split() #считаем кол-во слов в тексте \n",
    "print(len(words1))"
   ]
  },
  {
   "cell_type": "code",
   "execution_count": 4,
   "metadata": {},
   "outputs": [
    {
     "name": "stdout",
     "output_type": "stream",
     "text": [
      "39\n"
     ]
    }
   ],
   "source": [
    "uniq = set(stishok.split()) #считаем кол-во уникальных элементов, для этого переделываем строку в множество\n",
    "print(len(uniq))\n"
   ]
  },
  {
   "cell_type": "code",
   "execution_count": 5,
   "metadata": {},
   "outputs": [
    {
     "name": "stdout",
     "output_type": "stream",
     "text": [
      "['кошка', 'отчасти', 'идет', 'по', 'дороге,', 'Отчасти', 'по', 'воздуху', 'плавно', 'летит!']\n"
     ]
    }
   ],
   "source": [
    "print(words1[-10:])   #делаем срез и печатаем последние 10 слов"
   ]
  },
  {
   "cell_type": "code",
   "execution_count": 67,
   "metadata": {},
   "outputs": [
    {
     "name": "stdout",
     "output_type": "stream",
     "text": [
      "Несчастная\n",
      "кошка\n",
      "порезала\n",
      "лапу\n",
      "и\n",
      "ни\n",
      "шагу\n",
      "не\n",
      "может\n",
      "ступить\n",
      "Скорей\n",
      "чтобы\n",
      "вылечить\n",
      "кошкину\n",
      "лапу\n",
      "Воздушные\n",
      "шарики\n",
      "надо\n",
      "купить\n",
      "И\n",
      "сразу\n",
      "столпился\n",
      "народ\n",
      "на\n",
      "дороге\n",
      "Шумит\n",
      "и\n",
      "кричит\n",
      "и\n",
      "на\n",
      "кошку\n",
      "глядит\n",
      "А\n",
      "кошка\n",
      "отчасти\n",
      "идет\n",
      "по\n",
      "дороге\n",
      "Отчасти\n",
      "по\n",
      "воздуху\n",
      "плавно\n",
      "летит\n"
     ]
    }
   ],
   "source": [
    "stishok3 = '\\n'.join(words) #объединяю все слова в списке в строку через знак переноса строки\n",
    "print(stishok3)\n",
    "\n"
   ]
  },
  {
   "cell_type": "code",
   "execution_count": 77,
   "metadata": {},
   "outputs": [
    {
     "name": "stdout",
     "output_type": "stream",
     "text": [
      "резала\n",
      "лапу\n",
      "\n"
     ]
    }
   ],
   "source": [
    "print(stishok3[19:31]) #печатаем с 20 по 30 символ строки (включительно)."
   ]
  },
  {
   "cell_type": "code",
   "execution_count": null,
   "metadata": {},
   "outputs": [],
   "source": []
  }
 ],
 "metadata": {
  "kernelspec": {
   "display_name": "Python 3",
   "language": "python",
   "name": "python3"
  },
  "language_info": {
   "codemirror_mode": {
    "name": "ipython",
    "version": 3
   },
   "file_extension": ".py",
   "mimetype": "text/x-python",
   "name": "python",
   "nbconvert_exporter": "python",
   "pygments_lexer": "ipython3",
   "version": "3.7.0"
  }
 },
 "nbformat": 4,
 "nbformat_minor": 2
}
